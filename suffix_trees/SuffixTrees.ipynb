{
 "cells": [
  {
   "cell_type": "markdown",
   "metadata": {},
   "source": [
    "# Suffix Trees\n",
    "\n",
    "An implementation algorithms related to suffix trees (as seen in Gusfield's textbook on String algorithms.)  \n",
    "Assume $S$ is a string of $m$ characters over a fixed a alphabet. We will use the character `$` to denote the end of $S$.  \n",
    "**Note:** To generate our trees in this notebook we will use the `anytree` module.\n",
    "\n",
    "A **suffix tree** can be described as follows:  \n",
    "1. There are exactly $m$ leaves, one per each character.\n",
    "2. All non-root internal nodes has at least two children.\n",
    "3. Each edge is labeled wiith a non-empty substring of $S$; no two edges out of the same node can have edge-labels starting with the same character. \n",
    "4. For any leaf $i$ the concatenation of the edge-labels on the path from the roof to leaf $i$ speels out the suffix of $S$ that starts at index $i$ (i.e. $S[i:m]$.)\n",
    "5. The last character of $S$ is a terminal character that does not appear else where in $S$.  \n",
    "\n",
    "---\n"
   ]
  },
  {
   "cell_type": "markdown",
   "metadata": {},
   "source": [
    "### Single String Suffix Tree\n",
    "\n",
    "We begin by generating a suffix tree for a single input string.\n",
    "First a naive $O(m^2)$ algorithm:  \n",
    "- Insert a single edge with label $S[1:m]$.  \n",
    "- For $i=2, \\ldots m$:  \n",
    "    - insert $S[i:m]$ into the tree.\n",
    "    \n",
    "From the $N_i^{th}$ tree we construct the $N_{i+1}^{th}$ tree by finding the longest path from the root of $N_i$ whose label matches a prefix of $S[i+1:m]$ until no further matches are possible.\n",
    "This path is unique as no two edges out of a node can have labels that begin with the same character.  \n",
    "\n",
    "Once this path is found there are two possibilities: we have matched up to a node (say $w$) or we have mateched up to an edge say $(u,v)$.  \n",
    "- If it was an edge, we break the edge into two by inserting an intermediate node $w$; $(u,w)$ contains the sublabel of $(u,v)$ that matched with $S[i+1:m]$ and $(w,v)$ contains the remainder of $(u,v)$.\n",
    "- If it was a node $w$ (either originally or just created) we add a new edge $(w, x)$ to a new leaf $x$ that contains the unmatched part of $S[i+1:m]$.\n"
   ]
  },
  {
   "cell_type": "code",
   "execution_count": 29,
   "metadata": {},
   "outputs": [],
   "source": [
    "# Use 'anytree' to construct trees.\n",
    "from anytree import NodeMixin, RenderTree\n",
    "\n",
    "# Create \n",
    "class LNode(NodeMixin):\n",
    "    \n",
    "    def __init__(self, name, parent=None, edge_label=None):\n",
    "        super(LNode, self).__init__()\n",
    "        self.name = name\n",
    "        self.parent = parent\n",
    "        self.edge_label = edge_label\n",
    "        \n",
    "    def _post_detach(self, parent):\n",
    "        self.edge_label = None\n",
    "        \n",
    "class SuffixTree():\n",
    "    \n",
    "    def __init__(self):\n",
    "        self.root = WNode('root')\n",
    "        self.size = 1\n",
    "        \n",
    "    def insert(string, rooted_at=None):\n",
    "        children = self.root.children\n",
    "        if children == None:\n",
    "            LNode(None, parent=self.root, edge_label=string)\n",
    "            \n",
    "        else:\n",
    "            for child in children:\n",
    "                # There exists a child with matching prefix to string.\n",
    "                if child.edge_label[0] == string[0]:\n",
    "                    idx = 0\n",
    "                    while child.edge_label[idx] == string[idx] \\\n",
    "                    and idx < len(child.edge_label) \\\n",
    "                    and idx < len(string):\n",
    "                        idx+=1\n",
    "                    \n",
    "                    "
   ]
  },
  {
   "cell_type": "code",
   "execution_count": 32,
   "metadata": {},
   "outputs": [
    {
     "name": "stdout",
     "output_type": "stream",
     "text": [
      "1, None\n",
      "├── 2, xabxa$\n",
      "├── 3, abxa$\n",
      "└── 4, bxa$\n"
     ]
    }
   ],
   "source": [
    "a = LNode(1)\n",
    "b = LNode(2, a, 'xabxa$')\n",
    "c = LNode(3, a, 'abxa$')\n",
    "d = LNode(4, a, 'bxa$')\n",
    "\n",
    "for pre, _, node in RenderTree(a):\n",
    "    print(f'{pre}{node.name}, {node.edge_label}')"
   ]
  },
  {
   "cell_type": "code",
   "execution_count": null,
   "metadata": {},
   "outputs": [],
   "source": []
  }
 ],
 "metadata": {
  "kernelspec": {
   "display_name": "Python 3",
   "language": "python",
   "name": "python3"
  },
  "language_info": {
   "codemirror_mode": {
    "name": "ipython",
    "version": 3
   },
   "file_extension": ".py",
   "mimetype": "text/x-python",
   "name": "python",
   "nbconvert_exporter": "python",
   "pygments_lexer": "ipython3",
   "version": "3.7.7"
  }
 },
 "nbformat": 4,
 "nbformat_minor": 4
}

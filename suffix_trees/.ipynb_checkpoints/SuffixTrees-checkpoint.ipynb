{
 "cells": [
  {
   "cell_type": "markdown",
   "metadata": {},
   "source": [
    "# Suffix Trees\n",
    "\n",
    "An implementation algorithms related to suffix trees (as seen in Gusfield's textbook on String algorithms.)  \n",
    "Assume $S$ is a string of $m$ characters over a fixed a alphabet. We will use the character `$` to denote the end of $S$.  \n",
    "**Note:** To generate our trees in this notebook we will use the `anytree` module.\n",
    "\n",
    "A **suffix tree** can be described as follows:  \n",
    "1. There are exactly $m$ leaves, one per each character.\n",
    "2. All non-root internal nodes has at least two children.\n",
    "3. Each edge is labeled wiith a non-empty substring of $S$; no two edges out of the same node can have edge-labels starting with the same character. \n",
    "4. For any leaf $i$ the concatenation of the edge-labels on the path from the roof to leaf $i$ speels out the suffix of $S$ that starts at index $i$ (i.e. $S[i:m]$.)\n",
    "5. The last character of $S$ is a terminal character that does not appear else where in $S$.  \n",
    "\n",
    "---\n"
   ]
  },
  {
   "cell_type": "markdown",
   "metadata": {},
   "source": [
    "### Single String Suffix Tree\n",
    "\n",
    "We begin by generating a suffix tree for a single input string.\n",
    "First a naive $O(m^2)$ algorithm:  \n",
    "- Insert a single edge with label $S[1:m]$.  \n",
    "- For $i=2, \\ldots m$:  \n",
    "    - insert $S[i:m]$ into the tree.\n",
    "    \n",
    "From the $N_i^{th}$ tree we construct the $N_{i+1}^{th}$ tree by finding the longest path from the root of $N_i$ whose label matches a prefix of $S[i+1:m]$ until no further matches are possible.\n",
    "This path is unique as no two edges out of a node can have labels that begin with the same character.  \n",
    "\n",
    "Once this path is found there are two possibilities: we have matched up to a node (say $w$) or we have mateched up to an edge say $(u,v)$.  \n",
    "- If it was an edge, we break the edge into two by inserting an intermediate node $w$; $(u,w)$ contains the sublabel of $(u,v)$ that matched with $S[i+1:m]$ and $(w,v)$ contains the remainder of $(u,v)$.\n",
    "- If it was a node $w$ (either originally or just created) we add a new edge $(w, x)$ to a new leaf $x$ that contains the unmatched part of $S[i+1:m]$.\n"
   ]
  },
  {
   "cell_type": "code",
   "execution_count": 1,
   "metadata": {},
   "outputs": [],
   "source": [
    "# Use 'anytree' to construct trees.\n",
    "from anytree import NodeMixin\n",
    "\n",
    "# Create \n",
    "class LNode(NodeMixin):\n",
    "    \n",
    "    def __init__(self, name, parent=None, edge_label=None):\n",
    "        super(LNode, self).__init__()\n",
    "        self.name = name\n",
    "        self.parent = parent\n",
    "        self.edge_label = edge_label\n",
    "        \n",
    "    def _post_detach(self, parent):\n",
    "        self.edge_label = None:"
   ]
  },
  {
   "cell_type": "code",
   "execution_count": null,
   "metadata": {},
   "outputs": [],
   "source": []
  }
 ],
 "metadata": {
  "kernelspec": {
   "display_name": "Python 3",
   "language": "python",
   "name": "python3"
  },
  "language_info": {
   "codemirror_mode": {
    "name": "ipython",
    "version": 3
   },
   "file_extension": ".py",
   "mimetype": "text/x-python",
   "name": "python",
   "nbconvert_exporter": "python",
   "pygments_lexer": "ipython3",
   "version": "3.7.7"
  }
 },
 "nbformat": 4,
 "nbformat_minor": 4
}

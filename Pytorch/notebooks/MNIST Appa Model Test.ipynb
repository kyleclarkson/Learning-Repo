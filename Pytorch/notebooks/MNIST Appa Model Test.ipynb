{
 "cells": [
  {
   "cell_type": "markdown",
   "metadata": {},
   "source": [
    "# Testing Trained 'Appa' Model\n",
    "\n",
    "Having trained a small CNN called 'Appa' for classifying digits, we load the saved model and test its prediction on the MNIST validation set.\n"
   ]
  },
  {
   "cell_type": "code",
   "execution_count": 1,
   "metadata": {},
   "outputs": [],
   "source": [
    "import torch\n",
    "import torchvision\n",
    "import numpy as np\n",
    "from PIL import Image\n",
    "import matplotlib.pyplot as plt\n"
   ]
  },
  {
   "cell_type": "code",
   "execution_count": 2,
   "metadata": {},
   "outputs": [],
   "source": [
    "# Load validation data. \n",
    "data_path = 'C:\\\\Users\\\\Kyle\\\\Documents\\\\GitHub\\\\data\\\\'\n",
    "transform = torchvision.transforms.Compose([\n",
    "    torchvision.transforms.ToTensor()\n",
    "])\n",
    "\n",
    "val_set = torchvision.datasets.MNIST(data_path, train=False, download=True,  transform=transform)"
   ]
  },
  {
   "cell_type": "code",
   "execution_count": 3,
   "metadata": {},
   "outputs": [],
   "source": [
    "# Show image of digit. \n",
    "def imshow(img):\n",
    "    # display an image\n",
    "    img = img.cpu()\n",
    "    npimg = img.numpy()\n",
    "    # Display image by reordering channels to match pyplot's expectation\n",
    "    plt.imshow(npimg[0])"
   ]
  },
  {
   "cell_type": "code",
   "execution_count": 4,
   "metadata": {},
   "outputs": [
    {
     "data": {
      "text/plain": [
       "AppaNet(\n",
       "  (conv1): Conv2d(1, 4, kernel_size=(3, 3), stride=(1, 1), padding=(1, 1))\n",
       "  (pool1): MaxPool2d(kernel_size=2, stride=2, padding=0, dilation=1, ceil_mode=False)\n",
       "  (dropout1): Dropout2d(p=0.3, inplace=False)\n",
       "  (conv2): Conv2d(4, 8, kernel_size=(3, 3), stride=(1, 1), padding=(1, 1))\n",
       "  (pool2): MaxPool2d(kernel_size=2, stride=2, padding=0, dilation=1, ceil_mode=False)\n",
       "  (dropout2): Dropout(p=0.3, inplace=False)\n",
       "  (dense1): Linear(in_features=392, out_features=20, bias=True)\n",
       "  (dense2): Linear(in_features=20, out_features=10, bias=True)\n",
       ")"
      ]
     },
     "execution_count": 4,
     "metadata": {},
     "output_type": "execute_result"
    }
   ],
   "source": [
    "import os \n",
    "import sys\n",
    "import numpy as np\n",
    "\n",
    "# Import Appa model class.\n",
    "path_dir = 'C:\\\\Users\\\\Kyle\\\\Documents\\\\GitHub\\\\Learning-Repo\\\\Pytorch\\\\MNIST'\n",
    "sys.path.append(path_dir)\n",
    "\n",
    "from models import AppaNet\n",
    "\n",
    "# Load saved parameters. \n",
    "model = AppaNet()\n",
    "model.load_state_dict(torch.load(path_dir+'/models/appa_mnist.pt'))\n",
    "model.eval()\n",
    "model.to('cuda:0')\n"
   ]
  },
  {
   "cell_type": "code",
   "execution_count": 30,
   "metadata": {},
   "outputs": [
    {
     "name": "stdout",
     "output_type": "stream",
     "text": [
      "Index: 1955 Predicted: 2, Label: 8\n"
     ]
    },
    {
     "data": {
      "image/png": "[encoded data removed]",
      "text/plain": [
       "<Figure size 432x288 with 1 Axes>"
      ]
     },
     "metadata": {
      "needs_background": "light"
     },
     "output_type": "display_data"
    }
   ],
   "source": [
    "'''\n",
    "Run this cell to randomly select entry from validation set, \n",
    "display it, and test what the model classifies it as.\n",
    "'''\n",
    "index = np.random.choice(len(val_set))\n",
    "img, label = val_set[index]\n",
    "\n",
    "with torch.no_grad():\n",
    "    img = img.to('cuda:0')\n",
    "    _, pred = torch.max(model(img.unsqueeze(0)), dim=1)\n",
    "    imshow(img)\n",
    "    print(f'Index: {index} Predicted: {pred.item()}, Label: {label}')"
   ]
  },
  {
   "cell_type": "code",
   "execution_count": null,
   "metadata": {},
   "outputs": [],
   "source": []
  }
 ],
 "metadata": {
  "kernelspec": {
   "display_name": "Python 3",
   "language": "python",
   "name": "python3"
  },
  "language_info": {
   "codemirror_mode": {
    "name": "ipython",
    "version": 3
   },
   "file_extension": ".py",
   "mimetype": "text/x-python",
   "name": "python",
   "nbconvert_exporter": "python",
   "pygments_lexer": "ipython3",
   "version": "3.7.9"
  }
 },
 "nbformat": 4,
 "nbformat_minor": 4
}

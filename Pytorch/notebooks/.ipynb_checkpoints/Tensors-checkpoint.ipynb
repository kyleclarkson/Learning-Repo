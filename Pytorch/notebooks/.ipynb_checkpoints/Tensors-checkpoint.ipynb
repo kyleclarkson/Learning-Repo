{
 "cells": [
  {
   "cell_type": "markdown",
   "metadata": {},
   "source": [
    "# PyTorch Tensors\n",
    "\n",
    "This notebook contains operations on PyTorch Tensors. "
   ]
  },
  {
   "cell_type": "markdown",
   "metadata": {},
   "source": []
  },
  {
   "cell_type": "code",
   "execution_count": 2,
   "metadata": {},
   "outputs": [],
   "source": [
    "# Import torch\n",
    "import torch as T"
   ]
  },
  {
   "cell_type": "code",
   "execution_count": 9,
   "metadata": {},
   "outputs": [
    {
     "name": "stdout",
     "output_type": "stream",
     "text": [
      "tensor([0., 0., 0., 0., 0., 0.])\n",
      "tensor([1., 1., 1., 1.])\n"
     ]
    }
   ],
   "source": [
    "# Create tensors of various dimensions\n",
    "points = T.zeros(6)\n",
    "print(points)\n",
    "points = T.ones(4)\n",
    "print(points)"
   ]
  },
  {
   "cell_type": "code",
   "execution_count": 10,
   "metadata": {},
   "outputs": [
    {
     "name": "stdout",
     "output_type": "stream",
     "text": [
      "tensor(1.)\n"
     ]
    }
   ],
   "source": [
    "# Set/Get value by indexing\n",
    "points[0] = 5\n",
    "points[1] = 2\n",
    "points[3] = 7\n",
    "\n",
    "print(points[2])"
   ]
  },
  {
   "cell_type": "code",
   "execution_count": 16,
   "metadata": {},
   "outputs": [],
   "source": [
    "# create tensor containing 3 2D points\n",
    "lst = [[2,0], [5,0], [3,2]]\n",
    "points = torch.tensor(lst)\n"
   ]
  },
  {
   "cell_type": "code",
   "execution_count": 18,
   "metadata": {},
   "outputs": [
    {
     "name": "stdout",
     "output_type": "stream",
     "text": [
      "tensor([3, 2])\n",
      "tensor(0)\n",
      "tensor([0, 0, 2])\n"
     ]
    }
   ],
   "source": [
    "# index tensor in various ways\n",
    "print(points[2])\n",
    "print(points[1,1])\n",
    "print(points[:,1])"
   ]
  },
  {
   "cell_type": "code",
   "execution_count": 20,
   "metadata": {},
   "outputs": [
    {
     "data": {
      "text/plain": [
       "<function Tensor.type>"
      ]
     },
     "execution_count": 20,
     "metadata": {},
     "output_type": "execute_result"
    }
   ],
   "source": [
    "# Get tensor shape, type\n",
    "points.shape\n",
    "points.type"
   ]
  },
  {
   "cell_type": "code",
   "execution_count": 22,
   "metadata": {},
   "outputs": [
    {
     "data": {
      "text/plain": [
       "tensor([[[-2.6489,  0.8136,  0.2038, -0.8964,  1.9363],\n",
       "         [-0.4548,  0.7706, -1.0555,  0.4950, -0.1613],\n",
       "         [-0.3261, -0.0993,  0.3406, -1.0485,  0.0795],\n",
       "         [ 0.9644, -1.1222, -0.9037, -1.2191,  1.1530],\n",
       "         [ 0.5329, -0.2331,  0.5353,  1.8807,  1.4491]],\n",
       "\n",
       "        [[ 0.6852, -0.4305, -0.0890, -0.3706,  0.2255],\n",
       "         [ 1.7558,  1.7212,  1.3999,  1.1688,  1.2477],\n",
       "         [ 0.5138, -1.1574, -2.4154,  1.2857, -0.0141],\n",
       "         [-0.1958, -0.5426,  0.8890,  0.8756, -0.1843],\n",
       "         [ 0.3559, -1.3783, -0.6964, -0.9715, -0.6995]],\n",
       "\n",
       "        [[ 0.3027,  0.5659,  0.6285,  1.5689, -1.5820],\n",
       "         [-0.7026,  0.7048,  1.0274,  1.0822, -0.2537],\n",
       "         [-1.2240, -0.0240, -0.4714,  0.7157,  0.4574],\n",
       "         [-0.3134,  0.2260, -1.3199, -1.1348,  0.3237],\n",
       "         [ 0.6128, -0.1506,  0.6510,  0.2084, -1.2175]]])"
      ]
     },
     "execution_count": 22,
     "metadata": {},
     "output_type": "execute_result"
    }
   ],
   "source": [
    "# Populate tensor with random values\n",
    "img = torch.randn(3, 5, 5)\n",
    "img"
   ]
  },
  {
   "cell_type": "code",
   "execution_count": 23,
   "metadata": {},
   "outputs": [
    {
     "data": {
      "text/plain": [
       "torch.Size([4, 5, 5])"
      ]
     },
     "execution_count": 23,
     "metadata": {},
     "output_type": "execute_result"
    }
   ],
   "source": [
    "# Create a batch of 4 RGB images\n",
    "# [batch, channels, rows, columns]\n",
    "batch = T.randn(4, 3, 5, 5)\n",
    "\n",
    "# Compute average image cross RGB channels by averaging the last 3 axes\n",
    "img_avg = batch.mean(-3)\n",
    "# 4 5x5 images. \n",
    "img_avg.shape"
   ]
  },
  {
   "cell_type": "code",
   "execution_count": 25,
   "metadata": {},
   "outputs": [
    {
     "name": "stderr",
     "output_type": "stream",
     "text": [
      "C:\\Users\\Kyle\\Anaconda3\\envs\\rl\\lib\\site-packages\\ipykernel_launcher.py:8: UserWarning: Named tensors and all their associated APIs are an experimental feature and subject to change. Please do not use them for anything important until they are released as stable. (Triggered internally at  ..\\c10/core/TensorImpl.h:840.)\n",
      "  \n"
     ]
    },
    {
     "data": {
      "text/plain": [
       "tensor([0.3430, 0.4213], names=('channels',))"
      ]
     },
     "execution_count": 25,
     "metadata": {},
     "output_type": "execute_result"
    }
   ],
   "source": [
    "\"\"\"\n",
    "Naming tensors.\n",
    "\n",
    "We can name the dimensions of a tensor with names to \n",
    "avoid errors when accessing them.\n",
    "** Currently an experimental feautre. \n",
    "\n",
    "\"\"\"\n",
    "weights_named = T.tensor([0.343, 0.4213], names=['channels'])\n",
    "weights_named"
   ]
  },
  {
   "cell_type": "code",
   "execution_count": null,
   "metadata": {},
   "outputs": [],
   "source": [
    "#"
   ]
  }
 ],
 "metadata": {
  "kernelspec": {
   "display_name": "Python 3",
   "language": "python",
   "name": "python3"
  },
  "language_info": {
   "codemirror_mode": {
    "name": "ipython",
    "version": 3
   },
   "file_extension": ".py",
   "mimetype": "text/x-python",
   "name": "python",
   "nbconvert_exporter": "python",
   "pygments_lexer": "ipython3",
   "version": "3.7.7"
  }
 },
 "nbformat": 4,
 "nbformat_minor": 4
}

{
 "cells": [
  {
   "cell_type": "markdown",
   "metadata": {},
   "source": [
    "# Preporcessing Data \n",
    "\n",
    "This notebook covers reading tabular data (i.e. a file of rows where each row contains input data and its associated label) into PyTorch tensors. It also includes operations to inspect the elements.   \n",
    "\n",
    "In particular the dataset will describe various features of wine such as acidity, sugar, pH, and other qualities. Each row ends with a label indicating an integer score of 1, 2, ..., 10. "
   ]
  },
  {
   "cell_type": "code",
   "execution_count": 59,
   "metadata": {},
   "outputs": [],
   "source": [
    "import csv\n",
    "import numpy as np\n",
    "import torch as T"
   ]
  },
  {
   "cell_type": "code",
   "execution_count": 60,
   "metadata": {},
   "outputs": [],
   "source": [
    "# Read data into np array. \n",
    "wine_path = \"C:\\\\Users\\\\kylec\\\\data_dump\\\\winequality-white.csv\"\n",
    "wine_data_np = np.loadtxt(wine_path, dtype=np.float32, delimiter=\";\", skiprows=1)"
   ]
  },
  {
   "cell_type": "code",
   "execution_count": 61,
   "metadata": {},
   "outputs": [
    {
     "name": "stdout",
     "output_type": "stream",
     "text": [
      "[[ 7.    0.27  0.36 ...  0.45  8.8   6.  ]\n",
      " [ 6.3   0.3   0.34 ...  0.49  9.5   6.  ]\n",
      " [ 8.1   0.28  0.4  ...  0.44 10.1   6.  ]\n",
      " ...\n",
      " [ 6.5   0.24  0.19 ...  0.46  9.4   6.  ]\n",
      " [ 5.5   0.29  0.3  ...  0.38 12.8   7.  ]\n",
      " [ 6.    0.21  0.38 ...  0.32 11.8   6.  ]]\n",
      "(4898, 12)\n"
     ]
    }
   ],
   "source": [
    "print(wine_data_np)\n",
    "# 4898 rows, 12 cols (11 input, 1 class)\n",
    "print(wine_data_np.shape)"
   ]
  },
  {
   "cell_type": "code",
   "execution_count": 62,
   "metadata": {},
   "outputs": [],
   "source": [
    "\"\"\"\n",
    "Read data into tensor, separate into input and labelled tensors.\n",
    "\"\"\"\n",
    "data = T.from_numpy(wine_data_np)\n",
    "x = wine_data_t[:, :-1]\n",
    "label_t = wine_data_t[:, -1].long()"
   ]
  },
  {
   "cell_type": "code",
   "execution_count": 63,
   "metadata": {},
   "outputs": [
    {
     "data": {
      "text/plain": [
       "torch.Size([4898, 10])"
      ]
     },
     "execution_count": 63,
     "metadata": {},
     "output_type": "execute_result"
    }
   ],
   "source": [
    "\"\"\"\n",
    "Represent labels as one-hot vector. Encode each of the 10 classes into\n",
    "one of 10 vectors, each which has a single element with value 1, the \n",
    "remainder with 0s. \n",
    "\n",
    "\"\"\"\n",
    "y = T.zeros(label_t.shape[0], 10).long()\n",
    "y.scatter_(1, label_t.unsqueeze(1), 1.0)\n",
    "\n",
    "y.shape"
   ]
  },
  {
   "cell_type": "code",
   "execution_count": null,
   "metadata": {},
   "outputs": [],
   "source": []
  },
  {
   "cell_type": "code",
   "execution_count": 72,
   "metadata": {},
   "outputs": [
    {
     "name": "stdout",
     "output_type": "stream",
     "text": [
      "Mean:  tensor([  6.8548,   0.2782,   0.3342,   6.3914,   0.0458,  35.3081, 138.3607,\n",
      "          0.9940,   3.1883,   0.4898,  10.5142])\n",
      "Variance:  tensor([7.1211e-01, 1.0160e-02, 1.4646e-02, 2.5726e+01, 4.7733e-04, 2.8924e+02,\n",
      "        1.8061e+03, 8.9455e-06, 2.2801e-02, 1.3025e-02, 1.5144e+00])\n"
     ]
    }
   ],
   "source": [
    "# Compute mean and variance of features. \n",
    "\n",
    "x_mean = T.mean(x, dim=0)\n",
    "x_var = T.var(x, dim=0)\n",
    "print(\"Mean: \", x_mean)\n",
    "print(\"Variance: \", x_var)"
   ]
  },
  {
   "cell_type": "code",
   "execution_count": 75,
   "metadata": {},
   "outputs": [
    {
     "data": {
      "text/plain": [
       "tensor([[ 0.1721, -0.0818,  0.2133,  ..., -1.2468, -0.3491, -1.3930],\n",
       "        [-0.6574,  0.2159,  0.0480,  ...,  0.7399,  0.0013, -0.8242],\n",
       "        [ 1.4756,  0.0174,  0.5438,  ...,  0.4750, -0.4368, -0.3366],\n",
       "        ...,\n",
       "        [-0.4204, -0.3794, -1.1915,  ..., -1.3131, -0.2615, -0.9054],\n",
       "        [-1.6054,  0.1167, -0.2825,  ...,  1.0048, -0.9625,  1.8574],\n",
       "        [-1.0129, -0.6770,  0.3785,  ...,  0.4750, -1.4882,  1.0448]])"
      ]
     },
     "execution_count": 75,
     "metadata": {},
     "output_type": "execute_result"
    }
   ],
   "source": [
    "# Noramlize data\n",
    "x_norm = (x - x_mean) / T.sqrt(x_var)\n",
    "x_norm"
   ]
  },
  {
   "cell_type": "code",
   "execution_count": 71,
   "metadata": {},
   "outputs": [
    {
     "data": {
      "text/plain": [
       "(torch.Size([4898]), torch.uint8, tensor(183))"
      ]
     },
     "execution_count": 71,
     "metadata": {},
     "output_type": "execute_result"
    }
   ],
   "source": [
    "# Count number of data points with label score less than 5\n",
    "bad = label_t <= 4\n",
    "bad.shape, bad.dtype, bad.sum()"
   ]
  },
  {
   "cell_type": "code",
   "execution_count": null,
   "metadata": {},
   "outputs": [],
   "source": []
  }
 ],
 "metadata": {
  "kernelspec": {
   "display_name": "Python 3",
   "language": "python",
   "name": "python3"
  },
  "language_info": {
   "codemirror_mode": {
    "name": "ipython",
    "version": 3
   },
   "file_extension": ".py",
   "mimetype": "text/x-python",
   "name": "python",
   "nbconvert_exporter": "python",
   "pygments_lexer": "ipython3",
   "version": "3.7.3"
  }
 },
 "nbformat": 4,
 "nbformat_minor": 2
}

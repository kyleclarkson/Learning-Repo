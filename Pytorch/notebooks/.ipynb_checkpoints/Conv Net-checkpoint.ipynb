{
 "cells": [
  {
   "cell_type": "markdown",
   "metadata": {},
   "source": [
    "# CIFAR-10 and a CNN\n",
    "\n",
    "In this notebook we construct a convolutional neural network (CNN) to classify tiny RBG images from the CIFAR-10 dataset. \n"
   ]
  },
  {
   "cell_type": "code",
   "execution_count": 2,
   "metadata": {},
   "outputs": [
    {
     "name": "stdout",
     "output_type": "stream",
     "text": [
      "Files already downloaded and verified\n",
      "Files already downloaded and verified\n"
     ]
    }
   ],
   "source": [
    "# Get dataset (images) from PyTorch.\n",
    "\n",
    "from torchvision import datasets\n",
    "import matplotlib.pyplot as plt\n",
    "\n",
    "path = 'C:\\\\Users\\\\Kyle\\\\Documents\\\\GitHub\\\\data\\\\'\n",
    "\n",
    "cifar_10_train = datasets.CIFAR10(path, train=True, download=True)\n",
    "cifar_10_val = datasets.CIFAR10(path, train=False, download=True)\n"
   ]
  },
  {
   "cell_type": "code",
   "execution_count": 3,
   "metadata": {},
   "outputs": [
    {
     "name": "stdout",
     "output_type": "stream",
     "text": [
      "Images in training and validation sets: 50000, 10000\n"
     ]
    },
    {
     "data": {
      "image/png": "[encoded data removed]",
      "text/plain": [
       "<Figure size 432x288 with 1 Axes>"
      ]
     },
     "metadata": {
      "needs_background": "light"
     },
     "output_type": "display_data"
    },
    {
     "name": "stdout",
     "output_type": "stream",
     "text": [
      "Labed: 0\n"
     ]
    },
    {
     "data": {
      "image/png": "[encoded data removed]",
      "text/plain": [
       "<Figure size 432x288 with 1 Axes>"
      ]
     },
     "metadata": {
      "needs_background": "light"
     },
     "output_type": "display_data"
    },
    {
     "name": "stdout",
     "output_type": "stream",
     "text": [
      "Labed: 9\n"
     ]
    }
   ],
   "source": [
    "print(f'Images in training and validation sets: {len(cifar_10_train)}, {len(cifar_10_val)}')\n",
    "\n",
    "img, label = cifar_10_train[1234]\n",
    "plt.imshow(img)\n",
    "plt.show()\n",
    "\n",
    "print(f'Labed: {label}')\n",
    "img, label = cifar_10_train[4321]\n",
    "plt.imshow(img)\n",
    "plt.show()\n",
    "\n",
    "print(f'Labed: {label}')"
   ]
  },
  {
   "cell_type": "markdown",
   "metadata": {},
   "source": [
    "We can use the `torchvision.transforms` module to convert images to PyTorch tensors.\n",
    "These are listed below.\n",
    "Of particular use is the ToTensor function to convert numpy arrays and PIL images to tensors.\n",
    "As an image, it will pack the dimensions of the tensor as CxHxW (channel, height, width.)\n",
    "  \n",
    "**Note** `ToTensor` will convert [0,255] values to [0,1] values."
   ]
  },
  {
   "cell_type": "code",
   "execution_count": 4,
   "metadata": {},
   "outputs": [
    {
     "data": {
      "text/plain": [
       "torch.Size([3, 32, 32])"
      ]
     },
     "execution_count": 4,
     "metadata": {},
     "output_type": "execute_result"
    }
   ],
   "source": [
    "from torchvision import transforms\n",
    "# dir(transforms)\n",
    "\n",
    "to_tensor = transforms.ToTensor()\n",
    "img_t = to_tensor(img)\n",
    "img_t.shape"
   ]
  },
  {
   "cell_type": "markdown",
   "metadata": {},
   "source": [
    "Using a dataset provided by python, we can do this for all images:"
   ]
  },
  {
   "cell_type": "code",
   "execution_count": 10,
   "metadata": {},
   "outputs": [
    {
     "name": "stdout",
     "output_type": "stream",
     "text": [
      "torch.Size([3, 32, 32]) 1\n"
     ]
    }
   ],
   "source": [
    "tensor_cifar10 = datasets.CIFAR10(path, train=True, download=False, transform=transforms.ToTensor())\n",
    "img_t, label = tensor_cifar10[99]\n",
    "\n",
    "print(img_t.shape, label)"
   ]
  },
  {
   "cell_type": "code",
   "execution_count": 13,
   "metadata": {},
   "outputs": [
    {
     "data": {
      "text/plain": [
       "<matplotlib.image.AxesImage at 0x1e1cf141308>"
      ]
     },
     "execution_count": 13,
     "metadata": {},
     "output_type": "execute_result"
    },
    {
     "data": {
      "image/png": "[encoded data removed]",
      "text/plain": [
       "<Figure size 432x288 with 1 Axes>"
      ]
     },
     "metadata": {
      "needs_background": "light"
     },
     "output_type": "display_data"
    }
   ],
   "source": [
    "# Show image changing CxHxW to HxWxC\n",
    "plt.imshow(img_t.permute(1,2,0))"
   ]
  },
  {
   "cell_type": "markdown",
   "metadata": {},
   "source": [
    "## The Classifier: \n"
   ]
  },
  {
   "cell_type": "markdown",
   "metadata": {},
   "source": [
    " ### (1) Load and normalize data.      "
   ]
  },
  {
   "cell_type": "code",
   "execution_count": 14,
   "metadata": {},
   "outputs": [],
   "source": [
    "import torch \n",
    "import torchvision\n",
    "import torchvision.transforms as transforms"
   ]
  },
  {
   "cell_type": "code",
   "execution_count": 21,
   "metadata": {},
   "outputs": [
    {
     "name": "stdout",
     "output_type": "stream",
     "text": [
      "Files already downloaded and verified\n",
      "Files already downloaded and verified\n"
     ]
    }
   ],
   "source": [
    "\n",
    "\"\"\"\n",
    "Chain together a transforms to be applied to the images.\n",
    "- Conver to tensors\n",
    "- Set mean and std dev of all channels to 0.5 and 0.5.\n",
    "\"\"\"\n",
    "transform = transforms.Compose([transforms.ToTensor(),\n",
    "                                transforms.Normalize((0.5, 0.5, 0.5), (0.5, 0.5, 0.5))])\n",
    "\n",
    "\n",
    "# Get data, apply transforms, and place into data loaders\n",
    "path = 'C:\\\\Users\\\\Kyle\\\\Documents\\\\GitHub\\\\data\\\\'\n",
    "trainset = torchvision.datasets.CIFAR10(root=path, train=True, download=True, transform=transform)\n",
    "trainloader = torch.utils.data.DataLoader(trainset, batch_size=10, shuffle=True, num_workers=2)\n",
    "\n",
    "testset = torchvision.datasets.CIFAR10(root=path, train=False, download=True, transform=transform)\n",
    "testloader = torch.utils.data.DataLoader(testset, batch_size=10, shuffle=False, num_workers=2)\n",
    "\n",
    "classes = ('plane', 'car', 'bird', 'cat', 'deer', 'dog', 'frog', 'horse', 'ship', 'truck')"
   ]
  },
  {
   "cell_type": "code",
   "execution_count": 22,
   "metadata": {},
   "outputs": [
    {
     "name": "stdout",
     "output_type": "stream",
     "text": [
      "Class: frog\n"
     ]
    },
    {
     "data": {
      "image/png": "[encoded data removed]",
      "text/plain": [
       "<Figure size 432x288 with 1 Axes>"
      ]
     },
     "metadata": {
      "needs_background": "light"
     },
     "output_type": "display_data"
    }
   ],
   "source": [
    "import matplotlib.pyplot as plt\n",
    "import numpy as np\n",
    "\n",
    "# Function to show image\n",
    "def imshow(img):\n",
    "    img = img / 2 + 0.5 # unnormalize to [0,1]\n",
    "    npimg = img.numpy()\n",
    "    # Rearrage channels\n",
    "    plt.imshow(np.transpose(npimg, (1,2,0)))\n",
    "    plt.show()\n",
    "    \n",
    "img, label = trainset[0]\n",
    "print(f'Class: {classes[label]}')\n",
    "imshow(img)"
   ]
  },
  {
   "cell_type": "markdown",
   "metadata": {},
   "source": [
    "### (2) Defining the CNN"
   ]
  },
  {
   "cell_type": "code",
   "execution_count": null,
   "metadata": {},
   "outputs": [],
   "source": [
    "import torch.nn as nn\n",
    "import torch.nn.functional as F\n",
    "\n",
    "\n",
    "class Net(nn.Module):\n",
    "\n",
    "    def __init__(self):\n",
    "        super(Net, self).__init__()\n",
    "        # take 3x32x32 --> 6x32x32 \n",
    "        self.conv1 = nn.Conv2d(3, 6, kernel_size=3, padding=1)\n",
    "        # downsample 6x32x32 --> 6x16x16\n",
    "        self.pool1 = nn.MaxPool2d(2, 2)\n",
    "        # convolve 6x16x16 --> 8x16x16\n",
    "        self.conv2 = nn.Conv2d(6, 8, kernel_size=3, padding=1)\n",
    "        # convolve 8x16x16 --> 8x8x8\n",
    "        self.pool2 = nn.MaxPool2d(2, 2)\n",
    "        # flatten 8x8x8 --> 64x1\n",
    "        self.fc1 = nn.Linear(8*8*8, 64)\n",
    "        # flatten 64x1 --> 32x1\n",
    "        self.fc2 = nn.Linear(64, 32)\n",
    "        # flatten 64x1 --> 32x1\n",
    "        self.fc3 = nn.Linear(32, 10)\n",
    "        # flatten 32x1 --> 10x1\n",
    "        \n",
    "        "
   ]
  }
 ],
 "metadata": {
  "kernelspec": {
   "display_name": "Python 3",
   "language": "python",
   "name": "python3"
  },
  "language_info": {
   "codemirror_mode": {
    "name": "ipython",
    "version": 3
   },
   "file_extension": ".py",
   "mimetype": "text/x-python",
   "name": "python",
   "nbconvert_exporter": "python",
   "pygments_lexer": "ipython3",
   "version": "3.7.7"
  }
 },
 "nbformat": 4,
 "nbformat_minor": 4
}

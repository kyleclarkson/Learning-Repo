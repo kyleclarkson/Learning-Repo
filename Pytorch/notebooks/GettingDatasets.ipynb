{
 "cells": [
  {
   "cell_type": "markdown",
   "metadata": {},
   "source": [
    "# A notebook for extracting datasets into a central location\n"
   ]
  },
  {
   "cell_type": "code",
   "execution_count": 1,
   "metadata": {},
   "outputs": [
    {
     "name": "stdout",
     "output_type": "stream",
     "text": [
      "device:  cpu\n"
     ]
    }
   ],
   "source": [
    "%matplotlib inline\n",
    "import torch\n",
    "import torchvision\n",
    "\n",
    "import matplotlib.pyplot as plt\n",
    "import numpy as np\n",
    "# Location to store dataset\n",
    "data_path = 'C:\\\\Users\\\\Kyle\\\\Documents\\\\GitHub\\\\data\\\\'\n",
    "\n",
    "device = torch.device('cuda:0' if torch.cuda.is_available() else 'cpu')\n",
    "print('device: ', device)\n",
    "def imshow(img, title):\n",
    "    npimg = img.numpy()\n",
    "    # Display image by reordering channels to match pyplot's expectation\n",
    "    plt.imshow(np.transpose(npimg, (1,2,0)))\n",
    "    plt.title(title)"
   ]
  },
  {
   "cell_type": "markdown",
   "metadata": {},
   "source": [
    "## CIFAR 10"
   ]
  },
  {
   "cell_type": "code",
   "execution_count": 65,
   "metadata": {},
   "outputs": [
    {
     "name": "stdout",
     "output_type": "stream",
     "text": [
      "Files already downloaded and verified\n",
      "Files already downloaded and verified\n"
     ]
    }
   ],
   "source": [
    "\n",
    "classes = ('plane', 'car', 'bird', 'cat', 'deer', 'dog', 'frog', 'horse', 'ship', 'truck')\n",
    "\n",
    "def imshow(img, title):\n",
    "    npimg = img.numpy()\n",
    "    # Display image by reordering channels to match pyplot's expectation\n",
    "    plt.imshow(np.transpose(npimg, (1,2,0)))\n",
    "    plt.title(title)\n",
    "\n",
    "transform = torchvision.transforms.Compose([\n",
    "    torchvision.transforms.ToTensor(),\n",
    "])\n",
    "\n",
    "train_set = torchvision.datasets.CIFAR10(data_path, train=True, download=True,  transform=transform)\n",
    "val_set = torchvision.datasets.CIFAR10(data_path, train=False, download=True,  transform=transform)\n",
    "\n",
    "train_loader = torch.utils.data.DataLoader(train_set, batch_size=64, shuffle=True)\n",
    "val_loader = torch.utils.data.DataLoader(val_set, batch_size=64, shuffle=True)"
   ]
  },
  {
   "cell_type": "code",
   "execution_count": 78,
   "metadata": {},
   "outputs": [
    {
     "name": "stdout",
     "output_type": "stream",
     "text": [
      "(150000, 32, 32)\n",
      "[0.4892156  0.4799583  0.4770599  0.4744838  0.47282225 0.47205546\n",
      " 0.47175387 0.47162506 0.47163022 0.47176442 0.47198546 0.47189593\n",
      " 0.47164953 0.4714962  0.47117677 0.47079468 0.4707822  0.47099775\n",
      " 0.4712962  0.47164708 0.47162515 0.4716115  0.471716   0.47187334\n",
      " 0.47182718 0.4720563  0.4721516  0.47262448 0.4740014  0.4761055\n",
      " 0.47905672 0.484375  ] [0.26383403 0.2584018  0.2559357  0.25401574 0.25238773 0.2514551\n",
      " 0.25027016 0.2497239  0.24873556 0.24841724 0.24767739 0.24764736\n",
      " 0.24709296 0.24677129 0.24649623 0.24674024 0.24670573 0.2466548\n",
      " 0.24694973 0.24737765 0.24807914 0.24809797 0.24881217 0.24903877\n",
      " 0.25002226 0.2504571  0.25183108 0.25274402 0.2542824  0.2556968\n",
      " 0.25747424 0.26130033]\n"
     ]
    }
   ],
   "source": [
    "# use np.concatenate to stick all the images together to form a 1600000 X 32 X 32 array\n",
    "x = np.concatenate([np.asarray(train_set[i][0]) for i in range(len(train_set))])\n",
    "# print(x)\n",
    "print(x.shape)\n",
    "# calculate the mean and std along the (0, 1) axes\n",
    "train_mean = np.mean(x, axis=(0, 1))\n",
    "train_std = np.std(x, axis=(0, 1))\n",
    "# the the mean and std\n",
    "print(train_mean, train_std)\n"
   ]
  },
  {
   "cell_type": "code",
   "execution_count": 76,
   "metadata": {},
   "outputs": [
    {
     "name": "stdout",
     "output_type": "stream",
     "text": [
      "tensor([1.0883e-05, 1.0164e-05, 9.9836e-06])\n"
     ]
    }
   ],
   "source": []
  },
  {
   "cell_type": "code",
   "execution_count": 67,
   "metadata": {},
   "outputs": [
    {
     "name": "stdout",
     "output_type": "stream",
     "text": [
      "tensor([[[0.1961, 0.2000, 0.1647,  ..., 0.1882, 0.0706, 0.0549],\n",
      "         [0.3373, 0.3608, 0.3216,  ..., 0.1804, 0.0667, 0.0431],\n",
      "         [0.1686, 0.1686, 0.2000,  ..., 0.1647, 0.0392, 0.0235],\n",
      "         ...,\n",
      "         [0.8627, 0.8196, 0.7804,  ..., 0.6941, 0.6902, 0.6863],\n",
      "         [0.7373, 0.7137, 0.7137,  ..., 0.6902, 0.6863, 0.6824],\n",
      "         [0.7373, 0.7216, 0.7294,  ..., 0.6902, 0.6902, 0.6784]],\n",
      "\n",
      "        [[0.2510, 0.2471, 0.2157,  ..., 0.1765, 0.0706, 0.0588],\n",
      "         [0.4196, 0.4314, 0.3882,  ..., 0.1686, 0.0667, 0.0471],\n",
      "         [0.2353, 0.2196, 0.2549,  ..., 0.1529, 0.0392, 0.0235],\n",
      "         ...,\n",
      "         [0.6471, 0.6824, 0.6745,  ..., 0.6706, 0.6667, 0.6588],\n",
      "         [0.6980, 0.6667, 0.6314,  ..., 0.6588, 0.6549, 0.6510],\n",
      "         [0.6549, 0.6392, 0.6549,  ..., 0.6627, 0.6588, 0.6471]],\n",
      "\n",
      "        [[0.1451, 0.1608, 0.1608,  ..., 0.1647, 0.0549, 0.0471],\n",
      "         [0.2627, 0.2980, 0.2627,  ..., 0.1608, 0.0549, 0.0392],\n",
      "         [0.1647, 0.1608, 0.1804,  ..., 0.1451, 0.0353, 0.0196],\n",
      "         ...,\n",
      "         [0.5922, 0.6471, 0.6431,  ..., 0.6588, 0.6549, 0.6510],\n",
      "         [0.6353, 0.6353, 0.6157,  ..., 0.6510, 0.6471, 0.6431],\n",
      "         [0.6353, 0.6157, 0.6275,  ..., 0.6510, 0.6510, 0.6353]]])\n"
     ]
    },
    {
     "data": {
      "image/png": "[encoded data removed]",
      "text/plain": [
       "<Figure size 432x288 with 1 Axes>"
      ]
     },
     "metadata": {
      "needs_background": "light"
     },
     "output_type": "display_data"
    }
   ],
   "source": [
    "img, label = trainset_cifar[32]\n",
    "print(img)\n",
    "imshow(img, label)"
   ]
  },
  {
   "cell_type": "markdown",
   "metadata": {},
   "source": [
    "## MNIST"
   ]
  },
  {
   "cell_type": "code",
   "execution_count": 8,
   "metadata": {},
   "outputs": [],
   "source": [
    "# Load data.\n",
    "data_path = 'C:\\\\Users\\\\Kyle\\\\Documents\\\\GitHub\\\\data\\\\'\n",
    "\n",
    "transform = torchvision.transforms.Compose([\n",
    "    torchvision.transforms.ToTensor(),\n",
    "])\n",
    "\n",
    "train_set = torchvision.datasets.MNIST(data_path, train=True, download=True,  transform=transform)\n",
    "val_set = torchvision.datasets.MNIST(data_path, train=False, download=True,  transform=transform)\n",
    "\n",
    "train_loader = torch.utils.data.DataLoader(train_set, batch_size=32, shuffle=True)\n",
    "val_loader = torch.utils.data.DataLoader(val_set, batch_size=32, shuffle=True)"
   ]
  },
  {
   "cell_type": "code",
   "execution_count": 13,
   "metadata": {},
   "outputs": [
    {
     "data": {
      "text/plain": [
       "Text(0.5, 1.0, 'Label: 9')"
      ]
     },
     "execution_count": 13,
     "metadata": {},
     "output_type": "execute_result"
    },
    {
     "data": {
      "image/png": "[encoded data removed]",
      "text/plain": [
       "<Figure size 432x288 with 1 Axes>"
      ]
     },
     "metadata": {
      "needs_background": "light"
     },
     "output_type": "display_data"
    }
   ],
   "source": [
    "x, y = train_set[4]\n",
    "\n",
    "# Show image\n",
    "x = x.numpy()\n",
    "plt.imshow(x[0])\n",
    "plt.title(f'Label: {y}')"
   ]
  },
  {
   "cell_type": "code",
   "execution_count": null,
   "metadata": {},
   "outputs": [],
   "source": []
  }
 ],
 "metadata": {
  "kernelspec": {
   "display_name": "Python 3",
   "language": "python",
   "name": "python3"
  },
  "language_info": {
   "codemirror_mode": {
    "name": "ipython",
    "version": 3
   },
   "file_extension": ".py",
   "mimetype": "text/x-python",
   "name": "python",
   "nbconvert_exporter": "python",
   "pygments_lexer": "ipython3",
   "version": "3.7.9"
  }
 },
 "nbformat": 4,
 "nbformat_minor": 4
}

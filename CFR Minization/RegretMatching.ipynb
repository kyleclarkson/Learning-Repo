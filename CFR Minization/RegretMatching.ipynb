{
 "cells": [
  {
   "cell_type": "markdown",
   "metadata": {},
   "source": [
    "# Regret Matching with Rock, Paper, Scissors\n",
    "---\n",
    "### Regret\n",
    "For a group of players let $s_i$ be the action player by player $i$ and $s_{-i}$ the actions played by the remaining players.\n",
    "Together, these actions form an action profile $a \\in A$.\n",
    "For all other actions $s_i'$ we could've played, we define the **regret of not playing action $s'_i$** as a difference in utility:  \n",
    "\n",
    "<center>\n",
    "$\n",
    "\\begin{align*}\n",
    "    regret(s_i', a) &= u(s_i', s_{i-1}) - u(a)\n",
    "\\end{align*}\n",
    "$\n",
    "</center>  \n",
    "\n",
    "For example, if we play scissors and our opponent plays rock, then $a=(scissors, rock)$ and our utility for this play is $u(scissors, rock) = -1$.\n",
    "We can compute the regret for all of our possible actions to find:  \n",
    "<center>\n",
    "$\n",
    "\\begin{align*}\n",
    "    regret(rock, a) &= u(rock, rock) - u((scissors, rock)) = 0 - (-1) = 1 \\\\\n",
    "    regret(paper, a) &= u(paper, rock) - u((scissors, rock)) = 1 - (-1) = 2 \\\\\n",
    "    regret(scissors, a) &= u(scissors, rock) - u((scissors, rock)) = -1 - (-1) = 0\n",
    "\\end{align*}\n",
    "$  \n",
    "</center>  \n",
    "\n",
    "Thus we regret not playing \"paper\" the most, and regret not playing \"rock\" more than playing \"scissors\".Note that when $s_i' = s_i$ the regret is zero. \n",
    "\n",
    "---\n",
    "### Regret Matching\n",
    "\n",
    "Actions that have positive regret is an indicator that we should've chosen these actions to maximize our utility. \n",
    "Thus if we track the regret for each action, if we choose actions at random with probability proportional to how positive their regret is, we can hopefully maximize our utility. Actions with negative regret are given zero probability.\n",
    "Such a weighting is called **regret matching**.  \n",
    "\n",
    "If we play another game, using the above regrets we play \"paper\" with probability $\\frac{2}{3}$ and \"rock\" with probability $\\frac{1}{3}$. Suppose we play \"paper\" while our opponent plays \"scissors\". \n",
    "Thus our regret for this game is:\n",
    "<center>\n",
    "$\n",
    "\\begin{align*}\n",
    "    regret(rock, a) &= u(rock, paper) - u((paper, scissors)) = -1 - (-1) = 0 \\\\\n",
    "    regret(paper, a) &= u(paper, paper) - u((paper, scissors)) = 0 - (-1) = 1 \\\\\n",
    "    regret(scissors, a) &= u(scissors, paper) - u((paper, scissors)) = 1 - (-1) = 2\n",
    "\\end{align*}\n",
    "$  \n",
    "</center>  \n",
    "\n",
    "If we add these regrets to our previous regrets, we can compute the **cumulative regrets** of $(1,3,2)$ respectively, which is normalized to $(\\frac{1}{6},\\frac{3}{6},\\frac{2}{6})$.\n",
    "These normalized weights form a mixed-strategy that can be used for the next game."
   ]
  },
  {
   "cell_type": "code",
   "execution_count": null,
   "metadata": {},
   "outputs": [],
   "source": []
  }
 ],
 "metadata": {
  "kernelspec": {
   "display_name": "Python 3",
   "language": "python",
   "name": "python3"
  },
  "language_info": {
   "codemirror_mode": {
    "name": "ipython",
    "version": 3
   },
   "file_extension": ".py",
   "mimetype": "text/x-python",
   "name": "python",
   "nbconvert_exporter": "python",
   "pygments_lexer": "ipython3",
   "version": "3.7.7"
  }
 },
 "nbformat": 4,
 "nbformat_minor": 4
}

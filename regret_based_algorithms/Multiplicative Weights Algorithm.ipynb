{
 "cells": [
  {
   "cell_type": "markdown",
   "metadata": {},
   "source": [
    "# The Multiplicative Weights Algorithm - Online Learning\n",
    "\n",
    "(Based on the notes from [Tim Roughgarden](http://timroughgarden.org/w16/l/l11.pdf)'s course).\n",
    "\n",
    "In this notebook we implement the multiplicative weights algortihm (MWA.)\n",
    "However it is known by many names (AdaBoost, Winnow, etc.) do to its rediscovery across multiple disciplines. \n",
    "Its is an online learning algorthm, that is it is used in the following online decision-making model:  \n",
    "\n",
    "Over a time horizion $t=1, 2, \\ldots, T$:\n",
    "- A player picks a probability distribution $p^t$ over actions $A$ at time $t$.\n",
    "- An adversary picks a a reward vector $r^t:A \\rightarrow [-1,1]$\n",
    "- Using $p^t$, an action $a^t$ is chosen and is given a reward $r^t(a^t)$.\n",
    "- The player then learns $r^t$. \n",
    "\n",
    "The goal of the player is to maximize their total reward.\n",
    "Due to the adversary's choice of $r^t$ it is clear that, in hindsight, no online algorithm could achieve the best sequence of actions. \n",
    "That is we cannot match the sequence of actions that will generate the maximum reward.\n",
    "Thus we move our goal posts: instead of comparinging algorithm to the best possible sequence of actions, we compare it to the best *fixed* sequence of actions. \n",
    "That is, instead of comparing our algorithm against $\\sum_{t=1}^T \\max_{a \\in A} r^t(a)$, we compare it to $\\max_{a \\in A}\\sum_{t=1}^T r^t(a)$.  \n",
    "\n",
    "This motivates the following definition of **regret**. For fixed reward vectors $r^1, \\ldots, r^T$, the regret of an action sequence $a^1, \\ldots, a^T$ is:  \n",
    "<center>\n",
    "$\n",
    "\\begin{align*}\n",
    "    \\max_{a \\in A} \\sum_{t=1}^T r^t(a) - \\sum_{t=1}^Tr^t(a^t)\n",
    "\\end{align*}\n",
    "$\n",
    "</center>\n",
    "\n",
    "\n",
    "Instead of maximizing our total reward, we would like to minimize our total regret, ideally to 0.\n",
    "As we've assumed our rewards per action are contained within $[-1,1]$, note that over a time horizion of $T$, our total regret is bounded with $[0, T]$.\n",
    "\n",
    "One idea for an algorithm is to track the rewards each action has recieved over the previous $t-1$ time steps, then at time $t$ choose the action that has achieved maximum acumulative reward. \n",
    "Such an algorithm is typically called **follow-the-leader**.\n",
    "However it can be shown that such an algorithm will achieve a linear regret (i.e. is $O(T)$ over $T$ timesteps - see Tim's notes.)\n",
    "\n",
    "The issue is that follow-the-leader is determinisitc and thus can be exploited by an adversary. \n",
    "Therefore we turn to a randomized algorithm - the MW algorithm.\n",
    "The MW algorithm has to guiding principles:\n",
    "1) The past performance of actions (via the amount of reward the generate) should guide the current action; this should be done probabilistically with probabilities proportional to cummulative reward per action.\n",
    "\n",
    "2) We should decrease the probability of choosing bad actions (those which yield low rewards) at an exponential rate. \n",
    "\n",
    "These principles are need to obtain regret that is sublinear in $T$ and to say that the MW algorithm actually achieves an optimal regret bounud (see Tim's notes.)  \n",
    "\n",
    "---\n",
    "\n",
    "We implement the MW algorithm for use in the game Rock, Paper, Scissors. \n",
    "We will set out opponent to use a strategy that prefers Rock more often than other actions.\n",
    "The outcome the actions chosen by the algorithm and the opponent will generate the reward vector which corresponds to a lose, tie, and win per the iteration with rewards -1, 0, and 1 repsectively. \n",
    "\n"
   ]
  },
  {
   "cell_type": "code",
   "execution_count": 45,
   "metadata": {},
   "outputs": [],
   "source": [
    "import numpy as np\n",
    "import matplotlib.pyplot as plt"
   ]
  },
  {
   "cell_type": "code",
   "execution_count": 50,
   "metadata": {},
   "outputs": [],
   "source": [
    "class RPS:\n",
    "    ROCK, PAPER, SCISSORS = 0, 1, 2\n",
    "    N_ACTIONS = 3\n",
    "    # Payoff matrix, First index is our agent's choice, Second the opponents choice\n",
    "    PM = np.array([[0, -1, 1], [1, 0, -1], [-1, 1, 0]])\n",
    "\n",
    "    def __init__(self, eta, oppo_strat=np.array([1/3, 1/3, 1/3])):\n",
    "        self.reset(eta, oppo_strat)\n",
    "        \n",
    "    def reset(self, eta, oppo_strat):\n",
    "        self.eta = eta\n",
    "        self.oppo_strategy = oppo_strat\n",
    "        self.weights = np.ones(self.N_ACTIONS)\n",
    "        self.eta = 0.003\n",
    "        \n",
    "    def train(self, n_iter):\n",
    "        self.strat_lst = []\n",
    "        for iter in range(1, n_iter+1):\n",
    "            gamma = np.sum(self.weights)\n",
    "            prob_distr = self.weights / gamma\n",
    "            \n",
    "            oppo_action = np.random.choice([0, 1, 2], p=self.oppo_strategy)\n",
    "            \n",
    "            reward = self.PM[:, oppo_action]\n",
    "            # update weights\n",
    "            self.weights *= (1 + self.eta*reward)\n",
    "            self.strat_lst.append(prob_distr)\n",
    "            \n",
    "    \n",
    "        \n",
    "    \n",
    "    "
   ]
  },
  {
   "cell_type": "code",
   "execution_count": 54,
   "metadata": {},
   "outputs": [
    {
     "name": "stdout",
     "output_type": "stream",
     "text": [
      "Experiment: 1\n",
      "Weight vector:  [2.35901739e+00 5.65250607e+12 3.04902530e-14]\n",
      "Probabilities:  [4.17340089e-13 1.00000000e+00 5.39411238e-27]\n",
      "Experiment: 2\n",
      "Weight vector:  [1.90869361e+00 2.03417483e+13 1.04714955e-14]\n",
      "Probabilities:  [9.38313456e-14 1.00000000e+00 5.14778541e-28]\n",
      "Experiment: 3\n",
      "Weight vector:  [4.70893105e-01 8.79770445e+12 9.81389729e-14]\n",
      "Probabilities:  [5.35245424e-14 1.00000000e+00 1.11550659e-26]\n",
      "Experiment: 4\n",
      "Weight vector:  [5.79360110e-01 1.06247894e+13 6.60487018e-14]\n",
      "Probabilities:  [5.45290912e-14 1.00000000e+00 6.21647162e-27]\n",
      "Experiment: 5\n",
      "Weight vector:  [1.59127803e+00 3.39649994e+12 7.52238450e-14]\n",
      "Probabilities:  [4.68505244e-13 1.00000000e+00 2.21474595e-26]\n",
      "Experiment: 6\n",
      "Weight vector:  [3.68300941e-01 1.30337417e+13 8.46956821e-14]\n",
      "Probabilities:  [2.82574989e-14 1.00000000e+00 6.49818634e-27]\n",
      "Experiment: 7\n",
      "Weight vector:  [9.52232974e-01 2.71385545e+12 1.57327006e-13]\n",
      "Probabilities:  [3.50878295e-13 1.00000000e+00 5.79717708e-26]\n",
      "Experiment: 8\n",
      "Weight vector:  [6.82835669e-01 5.00480843e+12 1.18967833e-13]\n",
      "Probabilities:  [1.36435925e-13 1.00000000e+00 2.37707066e-26]\n",
      "Experiment: 9\n",
      "Weight vector:  [2.19166414e-01 1.57992913e+13 1.17414464e-13]\n",
      "Probabilities:  [1.38719142e-14 1.00000000e+00 7.43162851e-27]\n",
      "Experiment: 10\n",
      "Weight vector:  [2.99736352e-01 3.94170446e+13 3.44119855e-14]\n",
      "Probabilities:  [7.60423199e-15 1.00000000e+00 8.73022973e-28]\n"
     ]
    },
    {
     "data": {
      "image/png": "[encoded data removed]",
      "text/plain": [
       "<Figure size 432x288 with 1 Axes>"
      ]
     },
     "metadata": {
      "needs_background": "light"
     },
     "output_type": "display_data"
    }
   ],
   "source": [
    "for i in range(1, 11):\n",
    "    \n",
    "    rps = RPS(0.0033, [0.40, 0.3, 0.3])\n",
    "    rps.train(100_000)\n",
    "    \n",
    "    print(f'Experiment: {i}')\n",
    "    print('Weight vector: ', rps.weights)\n",
    "    print('Probabilities: ', rps.weights / np.sum(rps.weights))\n",
    "\n",
    "# Print final run on graph\n",
    "plt.plot(np.arange(1,100_001), rps.strat_lst)\n",
    "plt.xlabel('Training Iteration')\n",
    "plt.ylabel('Probability of action')\n",
    "plt.show()"
   ]
  },
  {
   "cell_type": "markdown",
   "metadata": {},
   "source": [
    "We conduct 10 experiments with `eta=0.0033` and ran for 100,000 iterations. \n",
    "In each round the opponent has a bias towards playing rock; their choice results in the reward vector generated. \n",
    "\n",
    "In all experiments the algorithm is able to determine that to play paper will result in minimizing regret. \n",
    "Note that here, unlike with the regret matching algorithm, we are able to determine that 'paper' should be played nearly 100% of the time, and in only approximately 10,000 iterations."
   ]
  },
  {
   "cell_type": "code",
   "execution_count": null,
   "metadata": {},
   "outputs": [],
   "source": []
  }
 ],
 "metadata": {
  "kernelspec": {
   "display_name": "Python 3",
   "language": "python",
   "name": "python3"
  },
  "language_info": {
   "codemirror_mode": {
    "name": "ipython",
    "version": 3
   },
   "file_extension": ".py",
   "mimetype": "text/x-python",
   "name": "python",
   "nbconvert_exporter": "python",
   "pygments_lexer": "ipython3",
   "version": "3.7.3"
  }
 },
 "nbformat": 4,
 "nbformat_minor": 2
}
